{
 "cells": [
  {
   "cell_type": "markdown",
   "id": "2f76836e-9f65-4a51-89e3-ad886745b77b",
   "metadata": {},
   "source": [
    "# APIs, Scripts & the Operating System"
   ]
  },
  {
   "cell_type": "markdown",
   "id": "f8d39ff1-490e-4110-9ff1-8880fdba895c",
   "metadata": {},
   "source": [
    "### Homework"
   ]
  },
  {
   "cell_type": "markdown",
   "id": "e5aac0b8-67cf-496d-8b82-d7a2910ef36b",
   "metadata": {},
   "source": [
    "Before you begin, remember to import the necessary libraries."
   ]
  },
  {
   "cell_type": "code",
   "execution_count": null,
   "id": "33de4fa0-4c6b-412e-9d31-b60b777ec39a",
   "metadata": {},
   "outputs": [],
   "source": [
    "import numpy as np\n",
    "import pandas as pd\n",
    "import seaborn as sns\n",
    "import requests\n",
    "import datetime\n",
    "import os"
   ]
  },
  {
   "cell_type": "markdown",
   "id": "a6be9786-ed96-4ab6-bf58-711b6fcef982",
   "metadata": {},
   "source": [
    "#### Standard Exercises"
   ]
  },
  {
   "cell_type": "markdown",
   "id": "3b49fb20-75e8-49bb-bf1d-00dbf1ca8fdb",
   "metadata": {},
   "source": [
    "**Part 1**"
   ]
  },
  {
   "cell_type": "markdown",
   "id": "49bdab79-74fb-4757-879d-6785c553f2a9",
   "metadata": {},
   "source": [
    "As seen in the last class' homework, the endpoint `https://makeup-api.herokuapp.com/api/v1/products.json`, in combination with the parameter `?brand=`, allows you to retrieve product data relative to a specific brand. The object `mkp_brands` in the following cell contains a list of all the brands available in the [Makeup API](https://makeup-api.herokuapp.com/). "
   ]
  },
  {
   "cell_type": "code",
   "execution_count": null,
   "id": "4ea64e86-991d-4c4a-a5bc-dac7e51bda41",
   "metadata": {},
   "outputs": [],
   "source": [
    "mkp_brands = ['colourpop', 'boosh', 'deciem', 'zorah biocosmetiques',\n",
    "              'w3llpeople', \"sally b's skin yummies\", 'rejuva minerals',\n",
    "              'penny lane organics', 'nudus', 'marienatie',\n",
    "              \"maia's mineral galaxy\", 'lotus cosmetics usa', 'green people',\n",
    "              'coastal classic creation', \"c'est moi\", 'alva', 'glossier', \n",
    "              'nyx', 'fenty', 'clinique', 'dior', 'iman', 'benefit', \n",
    "              'smashbox', 'marcelle', 'stila', 'mineral fusion', 'annabelle',\n",
    "              'dr. hauschka', 'physicians formula', 'cargo cosmetics',\n",
    "              'covergirl', 'e.l.f.', 'maybelline', 'almay', 'milani',\n",
    "              'pure anada', \"l'oreal\", 'sante', 'revlon', 'anna sui',\n",
    "              'wet n wild', 'pacifica', 'mistura', 'zorah', 'suncoat', 'moov',\n",
    "              'misa', 'salon perfect', 'orly', 'china glaze', 'essie',\n",
    "              'butter london', 'sinful colours', 'piggy paint', 'dalish', \n",
    "              \"burt's bees\"]"
   ]
  },
  {
   "cell_type": "markdown",
   "id": "e199e22b-0ae4-4503-b6f9-8480cb4f754c",
   "metadata": {},
   "source": [
    "Choose ten brands from the list above and create a Python script, call it `homework1_standard.py` that follows the steps below: \n",
    "\n",
    "1. Load the necessary libraries\n",
    "2. Creates an empty folder named `mkp` under the `data` directory\n",
    "3. Loops through all 10 selected brands and, for each one of them: \n",
    "    - makes an HTTP request to the Makeup API to get the data for that specific brand\n",
    "    - prints to screen the brand that is being extracted as well as the status code of the API call\n",
    "    - extracts the JSON data from the API result and stores it in a temporary DataFrame named `mkp_tmp`\n",
    "    - saves the temporary DataFrame to a .csv file whose name is the same as the brand name, inside the `mkp` directory\n"
   ]
  },
  {
   "cell_type": "markdown",
   "id": "06eca4e1-8915-4ff7-9b9f-c8c20feda531",
   "metadata": {},
   "source": [
    "**Part 2**"
   ]
  },
  {
   "cell_type": "markdown",
   "id": "d2dff81d-45d3-48d8-be38-d3867bb301b4",
   "metadata": {},
   "source": [
    "Given the results obtained from the first part, write a second Python script, call it `homework2_standard.py`, that completes the tasks found in the following list: \n",
    "\n",
    "1. Load the necessary libraries\n",
    "2. Initialise an empty DataFrame named `df`\n",
    "3. Retrieve the names of all the files in the `mkp` directory (using an `os` function) and save them to a list called `files`\n",
    "4. Loop through all the files contained in the `files` list and, for each one of them: \n",
    "    - load them in and save them to a temporary DataFrame called `mkp_tmp`\n",
    "    - append the temporary DataFrame to the (initially) empty DataFrame `df`\n",
    "5. Re-index the DataFrame to avoid having duplicates in the index\n",
    "6. Create a bar-plot showing the number of products available for each brand (in the `df` dataset)\n",
    "7. Save a copy of the plot locally, call it `products_per_brand.png`\n",
    "8. Remove all .csv files from the `mkp` directory\n",
    "9. Remove the (now empty) directory `mkp` "
   ]
  },
  {
   "cell_type": "markdown",
   "id": "ccb322b3-cb44-4a3e-b092-37d905483657",
   "metadata": {},
   "source": [
    "#### Advanced Exercises"
   ]
  },
  {
   "cell_type": "markdown",
   "id": "bc2c5c31-9cab-4774-b0e6-77609474ccbf",
   "metadata": {},
   "source": [
    "The advanced exercise uses the same [CoinGecko API](https://www.coingecko.com/en/api/documentation) that we saw in calss. \n",
    "\n",
    "As a reminder: we'll use the `/coins/{id}/history` endpoint to get the historical exchange rates for bitcoin at a given date. To do this, we replace `{id}` with `bitcoin` and add the `date` parameter as follows: \n",
    "\n",
    "    https://api.coingecko.com/api/v3/coins/bitcoin/history?date=01-06-2022\n",
    "\n",
    "The exercise consists in writing two python scripts. \n",
    "\n",
    "1. The first one retrieves the daily statistics for the **bitcoin** coin for **all the days between the 1st and 31st of May 2022** and saves the data of each one of these days in a .csv file inside a subfolder of the `/data/homework` folder called `1_unprocessed` (that is, you will have to create this subfolder).\n",
    "2. The second one loops through all the files in the `1_unprocessed` folder, appends them to a DataFrame and, at each cycle (after the data contained in the .csv has been appended to the DataFrame) moves the csv file to another folder called `2_processed`. After all the files have been appended to the DataFrame, the script will produce a line plot of the `current_price` time series for the exchange between BTC and EUR."
   ]
  },
  {
   "cell_type": "markdown",
   "id": "27e66b0f-9353-4701-b5f7-150ceb39d4d6",
   "metadata": {},
   "source": [
    "BONUS: include conditional statements in both files to handle errors such as \"the directory you are trying to create already exists\" or cases where \"you are writing .csv files in a folder that already contains data (that is, you already run that part and populated the directory)\"."
   ]
  }
 ],
 "metadata": {
  "kernelspec": {
   "display_name": "Python 3 (ipykernel)",
   "language": "python",
   "name": "python3"
  },
  "language_info": {
   "codemirror_mode": {
    "name": "ipython",
    "version": 3
   },
   "file_extension": ".py",
   "mimetype": "text/x-python",
   "name": "python",
   "nbconvert_exporter": "python",
   "pygments_lexer": "ipython3",
   "version": "3.9.7"
  }
 },
 "nbformat": 4,
 "nbformat_minor": 5
}
